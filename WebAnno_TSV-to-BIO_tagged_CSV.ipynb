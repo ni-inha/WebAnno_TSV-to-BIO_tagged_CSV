{
 "cells": [
  {
   "cell_type": "code",
   "execution_count": 1,
   "id": "09a211bf-e565-4f98-a08f-26e2774aa328",
   "metadata": {},
   "outputs": [],
   "source": [
    "import pandas as pd"
   ]
  },
  {
   "cell_type": "code",
   "execution_count": 2,
   "id": "39065e2b-46cc-46de-bb2c-36859a0ddcbf",
   "metadata": {},
   "outputs": [],
   "source": [
    "TXT_FILE_NAME = \"curation_test.txt\"\n",
    "TXT_FILE_ENCODING_TYPE = \"utf-8\"\n",
    "SOURCE_FILE_PATH = f\"source/{TXT_FILE_NAME}\"\n",
    "ANNOTATION_TSV_FILE_PATH = f\"curation/{TXT_FILE_NAME}/CURATION_USER.tsv\""
   ]
  },
  {
   "cell_type": "markdown",
   "id": "fd10c73a-3d66-4be9-accf-8e2d0d428002",
   "metadata": {
    "tags": []
   },
   "source": [
    "## Read a Source file"
   ]
  },
  {
   "cell_type": "code",
   "execution_count": 3,
   "id": "91b44fbf-fb79-4262-9433-f41ac0ddd9a4",
   "metadata": {},
   "outputs": [],
   "source": [
    "# source_file_list = open(SOURCE_FILE_PATH, 'r', encoding=TXT_FILE_ENCODING_TYPE).read().split('\\n')"
   ]
  },
  {
   "cell_type": "code",
   "execution_count": 4,
   "id": "a6a31629-0016-43c7-9cbb-0eb917a3e0e4",
   "metadata": {},
   "outputs": [],
   "source": [
    "# source_file_list"
   ]
  },
  {
   "cell_type": "markdown",
   "id": "f320992c-5bc0-43c6-a81c-e13dc50ce8a9",
   "metadata": {},
   "source": [
    "## Read an Annotated TSV file"
   ]
  },
  {
   "cell_type": "markdown",
   "id": "7c32b3de-8c50-4cd3-987b-15f659dfe426",
   "metadata": {},
   "source": [
    "### Pre-processing a TSV file"
   ]
  },
  {
   "cell_type": "code",
   "execution_count": 5,
   "id": "bbe328b9-92e4-482a-8e60-0e617aa4fb87",
   "metadata": {},
   "outputs": [],
   "source": [
    "annotation_tsv_file_list = open(ANNOTATION_TSV_FILE_PATH, 'r').read().split('\\n')"
   ]
  },
  {
   "cell_type": "code",
   "execution_count": 6,
   "id": "8fdd498d-ba0a-4780-a847-5be84e8fdd2b",
   "metadata": {},
   "outputs": [],
   "source": [
    "idx = 1\n",
    "\n",
    "col_list = [\"#Text\", \"span\", \"token\"]\n",
    "tag_list = []\n",
    "while True:\n",
    "    if annotation_tsv_file_list[idx]=='':\n",
    "        break\n",
    "    \n",
    "    row = annotation_tsv_file_list[idx]\n",
    "    tag_name = row.split('|')[0].split('.')[-1]\n",
    "    tag_list.append(tag_name)\n",
    "    \n",
    "    # row_attribute = []\n",
    "    # if (len(row.split('|'))!=2) or (row.split('|')[1]!=''):\n",
    "        # row_attribute = [tag_name+\"_\"+attribute for attribute in row.split('|')[1:]]\n",
    "    row_attribute = [tag_name+\"_\"+attribute for attribute in row.split('|')[1:]]\n",
    "    \n",
    "    for attribute in row_attribute:\n",
    "        col_list.append(attribute)\n",
    "    \n",
    "    idx+=1"
   ]
  },
  {
   "cell_type": "code",
   "execution_count": 7,
   "id": "f80f7009-a4fd-46af-91c4-3e72c1282e1b",
   "metadata": {},
   "outputs": [
    {
     "name": "stdout",
     "output_type": "stream",
     "text": [
      "tag_list : ['Inj_type', 'Int_Mint', 'Int_Noti', 'Int_Obs', 'Int_Px', 'Inv_HEAD', 'Inv_PER', 'Inv_PLA', 'Inv_THG', 'PVT_Sdevices', 'PVT_teaching', 'PVT_univeral', 'Risk_Beh', 'Risk_Cog', 'Risk_Env', 'Risk_Mob', 'Risk_Tx', 'Severity', 'Type']\n",
      "col_list : ['#Text', 'span', 'token', 'Inj_type_TagLinker', 'Int_Mint_TagLinker', 'Int_Noti_TagLinker', 'Int_Obs_', 'Int_Px_TagLinker', 'Inv_HEAD_', 'Inv_PER_TagLinker', 'Inv_PLA_TagLinker', 'Inv_THG_TagLinker', 'PVT_Sdevices_TagLinker', 'PVT_teaching_', 'PVT_univeral_TagLinker', 'Risk_Beh_TagLinker', 'Risk_Cog_TagLinker', 'Risk_Env_TagLinker', 'Risk_Mob_TagLinker', 'Risk_Tx_TagLinker', 'Severity_TagLinker', 'Type_TagLinker']\n"
     ]
    }
   ],
   "source": [
    "print(f\"tag_list : {tag_list}\")\n",
    "print(f\"col_list : {col_list}\")"
   ]
  },
  {
   "cell_type": "code",
   "execution_count": 8,
   "id": "df23d26a-01b9-436f-b542-02376cddaee8",
   "metadata": {},
   "outputs": [],
   "source": [
    "annotation_list = annotation_tsv_file_list[idx+1:]\n",
    "annotation_list[0] = \"\\t\".join(col_list)+\"\\t\"\n",
    "for _ in range(annotation_list.count('')): # remove empty row\n",
    "    annotation_list.remove('')\n",
    "\n",
    "annotation_table = [row.split(\"\\t\") for row in annotation_list]"
   ]
  },
  {
   "cell_type": "code",
   "execution_count": 9,
   "id": "e0f35dbe-50be-4850-bd60-10a9f37ed1b0",
   "metadata": {},
   "outputs": [],
   "source": [
    "df = pd.DataFrame(annotation_table[1:], columns=annotation_table[0])\n",
    "df.drop([''], axis=1, inplace=True)"
   ]
  },
  {
   "cell_type": "code",
   "execution_count": 10,
   "id": "931b29e7-b31e-4298-bf47-57466189ae80",
   "metadata": {},
   "outputs": [],
   "source": [
    "token_pairs_list = []\n",
    "\n",
    "\n",
    "idx = 0\n",
    "while idx < len(df):\n",
    "    is_token_tagless = True\n",
    "\n",
    "    for tag in col_list[3:]:\n",
    "        if (df[tag][idx]=='_' or df[tag][idx]==None):\n",
    "            continue\n",
    "        else:\n",
    "            # if (df[\"token\"][idx]==None or df[\"token\"][idx].isDecimal()==True or p.match(df[\"token\"][idx])):\n",
    "            #     idx += 1\n",
    "            #     continue\n",
    "\n",
    "            token = df[\"token\"][idx]\n",
    "            if df[tag][idx][0] == '*':\n",
    "                df[tag][idx] = df[tag][idx].replace('*', tag)\n",
    "            detail_tag = df[tag][idx]\n",
    "                \n",
    "            token_pairs_list.append((token, detail_tag))\n",
    "            is_token_tagless = False\n",
    "    # end for loop\n",
    "    \n",
    "    if is_token_tagless==True and df[\"token\"][idx]!=None:\n",
    "        token_pairs_list.append((df[\"token\"][idx], \"O\")) # Making O-tag\n",
    "    idx += 1\n",
    "# end while loop"
   ]
  },
  {
   "cell_type": "code",
   "execution_count": 11,
   "id": "8618dad3-513d-41cc-b306-4e3d94e5b82e",
   "metadata": {},
   "outputs": [
    {
     "data": {
      "text/plain": [
       "[('no', 'O'),\n",
       " ('pain', 'O'),\n",
       " ('and', 'O'),\n",
       " ('that', 'O'),\n",
       " ('he', 'O'),\n",
       " ('had', 'O'),\n",
       " ('no', 'O'),\n",
       " ('symptoms', 'O'),\n",
       " ('.', 'O'),\n",
       " ('No', 'none[56]'),\n",
       " ('trauma', 'none[56]'),\n",
       " ('observed', 'O'),\n",
       " ('.', 'O'),\n",
       " ('\"', 'O'),\n",
       " ('The', 'O'),\n",
       " ('patient', 'O'),\n",
       " ('was', 'O'),\n",
       " ('found', 'O'),\n",
       " ('dead', 'O'),\n",
       " ('with', 'O'),\n",
       " ('a', 'O'),\n",
       " (\"'\", 'O'),\n",
       " ('thump', 'O'),\n",
       " (\"'\", 'O'),\n",
       " ('in', 'O'),\n",
       " ('front', 'O'),\n",
       " ('of', 'O'),\n",
       " ('the', 'O'),\n",
       " ('elevator', 'O'),\n",
       " ('.', 'O')]"
      ]
     },
     "execution_count": 11,
     "metadata": {},
     "output_type": "execute_result"
    }
   ],
   "source": [
    "token_pairs_list[-30:]"
   ]
  },
  {
   "cell_type": "code",
   "execution_count": 12,
   "id": "fadc9d05-12ac-465a-aece-e9a0d7e355a3",
   "metadata": {},
   "outputs": [],
   "source": [
    "BIO_table = []\n",
    "\n",
    "temp_tag_list = []\n",
    "for idx, (token, tag) in enumerate(token_pairs_list):\n",
    "    if tag == \"O\": # except O-tag\n",
    "        pass\n",
    "    elif tag[-1] != ']': # Making B-tag\n",
    "        tag = \"B-\" + tag\n",
    "    else: # Making sequential tag\n",
    "        real_tag = tag.split('[')[0]\n",
    "        if tag in temp_tag_list: # Making I-tag\n",
    "            tag = \"I-\" + real_tag\n",
    "        else: # Making B-tag\n",
    "            temp_tag_list.append(tag)\n",
    "            tag = \"B-\" + real_tag\n",
    "    \n",
    "    BIO_table.append([token, tag])"
   ]
  },
  {
   "cell_type": "code",
   "execution_count": 13,
   "id": "d81d74c6-eeb7-4444-ae36-b6a1a6f4bf76",
   "metadata": {},
   "outputs": [],
   "source": [
    "BIO_df = pd.DataFrame(BIO_table, columns=[\"token\", \"tag\"])\n",
    "BIO_df.to_csv(f\"BIO-{TXT_FILE_NAME[:-4]}.csv\")"
   ]
  },
  {
   "cell_type": "code",
   "execution_count": 14,
   "id": "a310ea84-59d1-4a70-8ff0-0324f9c8a6d3",
   "metadata": {},
   "outputs": [
    {
     "data": {
      "text/html": [
       "<div>\n",
       "<style scoped>\n",
       "    .dataframe tbody tr th:only-of-type {\n",
       "        vertical-align: middle;\n",
       "    }\n",
       "\n",
       "    .dataframe tbody tr th {\n",
       "        vertical-align: top;\n",
       "    }\n",
       "\n",
       "    .dataframe thead th {\n",
       "        text-align: right;\n",
       "    }\n",
       "</style>\n",
       "<table border=\"1\" class=\"dataframe\">\n",
       "  <thead>\n",
       "    <tr style=\"text-align: right;\">\n",
       "      <th></th>\n",
       "      <th>token</th>\n",
       "      <th>tag</th>\n",
       "    </tr>\n",
       "  </thead>\n",
       "  <tbody>\n",
       "    <tr>\n",
       "      <th>0</th>\n",
       "      <td>\"</td>\n",
       "      <td>O</td>\n",
       "    </tr>\n",
       "    <tr>\n",
       "      <th>1</th>\n",
       "      <td>NIBP_systolic</td>\n",
       "      <td>O</td>\n",
       "    </tr>\n",
       "    <tr>\n",
       "      <th>2</th>\n",
       "      <td>(</td>\n",
       "      <td>O</td>\n",
       "    </tr>\n",
       "    <tr>\n",
       "      <th>3</th>\n",
       "      <td>mmHg</td>\n",
       "      <td>O</td>\n",
       "    </tr>\n",
       "    <tr>\n",
       "      <th>4</th>\n",
       "      <td>)</td>\n",
       "      <td>O</td>\n",
       "    </tr>\n",
       "    <tr>\n",
       "      <th>...</th>\n",
       "      <td>...</td>\n",
       "      <td>...</td>\n",
       "    </tr>\n",
       "    <tr>\n",
       "      <th>4502</th>\n",
       "      <td>front</td>\n",
       "      <td>O</td>\n",
       "    </tr>\n",
       "    <tr>\n",
       "      <th>4503</th>\n",
       "      <td>of</td>\n",
       "      <td>O</td>\n",
       "    </tr>\n",
       "    <tr>\n",
       "      <th>4504</th>\n",
       "      <td>the</td>\n",
       "      <td>O</td>\n",
       "    </tr>\n",
       "    <tr>\n",
       "      <th>4505</th>\n",
       "      <td>elevator</td>\n",
       "      <td>O</td>\n",
       "    </tr>\n",
       "    <tr>\n",
       "      <th>4506</th>\n",
       "      <td>.</td>\n",
       "      <td>O</td>\n",
       "    </tr>\n",
       "  </tbody>\n",
       "</table>\n",
       "<p>4507 rows × 2 columns</p>\n",
       "</div>"
      ],
      "text/plain": [
       "              token tag\n",
       "0                 \"   O\n",
       "1     NIBP_systolic   O\n",
       "2                 (   O\n",
       "3              mmHg   O\n",
       "4                 )   O\n",
       "...             ...  ..\n",
       "4502          front   O\n",
       "4503             of   O\n",
       "4504            the   O\n",
       "4505       elevator   O\n",
       "4506              .   O\n",
       "\n",
       "[4507 rows x 2 columns]"
      ]
     },
     "execution_count": 14,
     "metadata": {},
     "output_type": "execute_result"
    }
   ],
   "source": [
    "BIO_df"
   ]
  },
  {
   "cell_type": "code",
   "execution_count": 15,
   "id": "3e49b3c5-ba8b-481b-ad5d-f167d02220bb",
   "metadata": {},
   "outputs": [
    {
     "data": {
      "text/html": [
       "<div>\n",
       "<style scoped>\n",
       "    .dataframe tbody tr th:only-of-type {\n",
       "        vertical-align: middle;\n",
       "    }\n",
       "\n",
       "    .dataframe tbody tr th {\n",
       "        vertical-align: top;\n",
       "    }\n",
       "\n",
       "    .dataframe thead th {\n",
       "        text-align: right;\n",
       "    }\n",
       "</style>\n",
       "<table border=\"1\" class=\"dataframe\">\n",
       "  <thead>\n",
       "    <tr style=\"text-align: right;\">\n",
       "      <th></th>\n",
       "      <th>token</th>\n",
       "      <th>tag</th>\n",
       "    </tr>\n",
       "  </thead>\n",
       "  <tbody>\n",
       "    <tr>\n",
       "      <th>count</th>\n",
       "      <td>4507</td>\n",
       "      <td>4507</td>\n",
       "    </tr>\n",
       "    <tr>\n",
       "      <th>unique</th>\n",
       "      <td>930</td>\n",
       "      <td>60</td>\n",
       "    </tr>\n",
       "    <tr>\n",
       "      <th>top</th>\n",
       "      <td>the</td>\n",
       "      <td>O</td>\n",
       "    </tr>\n",
       "    <tr>\n",
       "      <th>freq</th>\n",
       "      <td>312</td>\n",
       "      <td>4239</td>\n",
       "    </tr>\n",
       "  </tbody>\n",
       "</table>\n",
       "</div>"
      ],
      "text/plain": [
       "       token   tag\n",
       "count   4507  4507\n",
       "unique   930    60\n",
       "top      the     O\n",
       "freq     312  4239"
      ]
     },
     "execution_count": 15,
     "metadata": {},
     "output_type": "execute_result"
    }
   ],
   "source": [
    "BIO_df.describe()"
   ]
  },
  {
   "cell_type": "code",
   "execution_count": null,
   "id": "16d13068-8af9-4550-b2c9-46180949987e",
   "metadata": {},
   "outputs": [],
   "source": []
  }
 ],
 "metadata": {
  "kernelspec": {
   "display_name": "Python 3 (ipykernel)",
   "language": "python",
   "name": "python3"
  },
  "language_info": {
   "codemirror_mode": {
    "name": "ipython",
    "version": 3
   },
   "file_extension": ".py",
   "mimetype": "text/x-python",
   "name": "python",
   "nbconvert_exporter": "python",
   "pygments_lexer": "ipython3",
   "version": "3.8.10"
  }
 },
 "nbformat": 4,
 "nbformat_minor": 5
}
