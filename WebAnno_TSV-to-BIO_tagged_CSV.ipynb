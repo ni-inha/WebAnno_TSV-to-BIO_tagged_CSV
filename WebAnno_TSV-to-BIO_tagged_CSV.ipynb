{
 "cells": [
  {
   "cell_type": "code",
   "execution_count": 1,
   "id": "09a211bf-e565-4f98-a08f-26e2774aa328",
   "metadata": {},
   "outputs": [],
   "source": [
    "import pandas as pd"
   ]
  },
  {
   "cell_type": "code",
   "execution_count": 2,
   "id": "39065e2b-46cc-46de-bb2c-36859a0ddcbf",
   "metadata": {},
   "outputs": [],
   "source": [
    "TXT_FILE_NAME = \"curation_test.txt\"\n",
    "TXT_FILE_ENCODING_TYPE = \"utf-8\"\n",
    "SOURCE_FILE_PATH = f\"source/{TXT_FILE_NAME}\"\n",
    "ANNOTATION_TSV_FILE_PATH = f\"curation/{TXT_FILE_NAME}/CURATION_USER.tsv\""
   ]
  },
  {
   "cell_type": "markdown",
   "id": "fd10c73a-3d66-4be9-accf-8e2d0d428002",
   "metadata": {
    "tags": []
   },
   "source": [
    "## Read a Source file"
   ]
  },
  {
   "cell_type": "code",
   "execution_count": 3,
   "id": "91b44fbf-fb79-4262-9433-f41ac0ddd9a4",
   "metadata": {},
   "outputs": [],
   "source": [
    "# source_file_list = open(SOURCE_FILE_PATH, 'r', encoding=TXT_FILE_ENCODING_TYPE).read().split('\\n')"
   ]
  },
  {
   "cell_type": "markdown",
   "id": "f320992c-5bc0-43c6-a81c-e13dc50ce8a9",
   "metadata": {},
   "source": [
    "## Read an Annotated TSV file"
   ]
  },
  {
   "cell_type": "markdown",
   "id": "7c32b3de-8c50-4cd3-987b-15f659dfe426",
   "metadata": {},
   "source": [
    "### Pre-processing a TSV file"
   ]
  },
  {
   "cell_type": "code",
   "execution_count": 4,
   "id": "bbe328b9-92e4-482a-8e60-0e617aa4fb87",
   "metadata": {},
   "outputs": [],
   "source": [
    "annotation_tsv_file_list = open(ANNOTATION_TSV_FILE_PATH, 'r').read().split('\\n')"
   ]
  },
  {
   "cell_type": "code",
   "execution_count": 5,
   "id": "8fdd498d-ba0a-4780-a847-5be84e8fdd2b",
   "metadata": {},
   "outputs": [],
   "source": [
    "idx = 1\n",
    "\n",
    "col_list = [\"#Text\", \"span\", \"token\"]\n",
    "tag_list = []\n",
    "while True:\n",
    "    if annotation_tsv_file_list[idx]=='':\n",
    "        break\n",
    "    \n",
    "    row = annotation_tsv_file_list[idx]\n",
    "    tag_name = row.split('|')[0].split('.')[-1]\n",
    "    tag_list.append(tag_name)\n",
    "    \n",
    "    # row_attribute = []\n",
    "    # if (len(row.split('|'))!=2) or (row.split('|')[1]!=''):\n",
    "        # row_attribute = [tag_name+\"_\"+attribute for attribute in row.split('|')[1:]]\n",
    "    row_attribute = [tag_name+\"_\"+attribute for attribute in row.split('|')[1:]]\n",
    "    \n",
    "    for attribute in row_attribute:\n",
    "        col_list.append(attribute)\n",
    "    \n",
    "    idx+=1"
   ]
  },
  {
   "cell_type": "code",
   "execution_count": 6,
   "id": "f80f7009-a4fd-46af-91c4-3e72c1282e1b",
   "metadata": {},
   "outputs": [
    {
     "name": "stdout",
     "output_type": "stream",
     "text": [
      "tag_list : ['Inj_type', 'Int_Mint', 'Int_Noti', 'Int_Obs', 'Int_Px', 'Inv_HEAD', 'Inv_PER', 'Inv_PLA', 'Inv_THG', 'PVT_Sdevices', 'PVT_teaching', 'PVT_univeral', 'Risk_Beh', 'Risk_Cog', 'Risk_Env', 'Risk_Mob', 'Risk_Tx', 'Severity', 'Type']\n",
      "col_list : ['#Text', 'span', 'token', 'Inj_type_TagLinker', 'Int_Mint_TagLinker', 'Int_Noti_TagLinker', 'Int_Obs_', 'Int_Px_TagLinker', 'Inv_HEAD_', 'Inv_PER_TagLinker', 'Inv_PLA_TagLinker', 'Inv_THG_TagLinker', 'PVT_Sdevices_TagLinker', 'PVT_teaching_', 'PVT_univeral_TagLinker', 'Risk_Beh_TagLinker', 'Risk_Cog_TagLinker', 'Risk_Env_TagLinker', 'Risk_Mob_TagLinker', 'Risk_Tx_TagLinker', 'Severity_TagLinker', 'Type_TagLinker']\n"
     ]
    }
   ],
   "source": [
    "print(f\"tag_list : {tag_list}\")\n",
    "print(f\"col_list : {col_list}\")"
   ]
  },
  {
   "cell_type": "code",
   "execution_count": 7,
   "id": "df23d26a-01b9-436f-b542-02376cddaee8",
   "metadata": {},
   "outputs": [],
   "source": [
    "annotation_list = annotation_tsv_file_list[idx+1:]\n",
    "annotation_list[0] = \"\\t\".join(col_list)+\"\\t\"\n",
    "for _ in range(annotation_list.count('')): # remove empty row\n",
    "    annotation_list.remove('')\n",
    "\n",
    "annotation_table = [row.split(\"\\t\") for row in annotation_list]"
   ]
  },
  {
   "cell_type": "code",
   "execution_count": 8,
   "id": "e0f35dbe-50be-4850-bd60-10a9f37ed1b0",
   "metadata": {},
   "outputs": [],
   "source": [
    "df = pd.DataFrame(annotation_table[1:], columns=annotation_table[0])\n",
    "df.drop([''], axis=1, inplace=True)"
   ]
  },
  {
   "cell_type": "code",
   "execution_count": 9,
   "id": "931b29e7-b31e-4298-bf47-57466189ae80",
   "metadata": {},
   "outputs": [],
   "source": [
    "token_pairs_list = []\n",
    "\n",
    "for tag in col_list[3:]:\n",
    "    idx = 0\n",
    "    while idx < len(df):\n",
    "        if (df[tag][idx]=='_' or df[tag][idx]==None):\n",
    "            idx += 1\n",
    "            continue\n",
    "        else:\n",
    "            # if (df[\"token\"][idx]==None or df[\"token\"][idx].isDecimal()==True or p.match(df[\"token\"][idx])):\n",
    "            #     idx += 1\n",
    "            #     continue\n",
    "\n",
    "            token = df[\"token\"][idx]\n",
    "            if df[tag][idx][0] == '*':\n",
    "                df[tag][idx] = df[tag][idx].replace('*', tag)\n",
    "            detail_tag = df[tag][idx]\n",
    "                \n",
    "            token_pairs_list.append((token, detail_tag))\n",
    "\n",
    "            idx += 1"
   ]
  },
  {
   "cell_type": "code",
   "execution_count": 10,
   "id": "8618dad3-513d-41cc-b306-4e3d94e5b82e",
   "metadata": {},
   "outputs": [
    {
     "data": {
      "text/plain": [
       "[('bru', 'bruise'),\n",
       " ('abrasion', 'abrasion'),\n",
       " ('pain', 'pain'),\n",
       " ('bleeding', 'bleeding'),\n",
       " ('pain', 'pain'),\n",
       " ('bleeding', 'bleeding'),\n",
       " ('BST', 'Int_Mint_TagLinker'),\n",
       " ('urinating.Notify', 'Dr[1]'),\n",
       " ('the', 'Dr[1]'),\n",
       " ('doctor', 'Dr[1]')]"
      ]
     },
     "execution_count": 10,
     "metadata": {},
     "output_type": "execute_result"
    }
   ],
   "source": [
    "token_pairs_list[:10]"
   ]
  },
  {
   "cell_type": "code",
   "execution_count": 11,
   "id": "9e595764-4e20-44c2-b3a0-51027969dfb6",
   "metadata": {},
   "outputs": [
    {
     "data": {
      "text/plain": [
       "['Dr', '1]']"
      ]
     },
     "execution_count": 11,
     "metadata": {},
     "output_type": "execute_result"
    }
   ],
   "source": [
    "tag= \"Dr[1]\"\n",
    "tag.split('[')"
   ]
  },
  {
   "cell_type": "code",
   "execution_count": 12,
   "id": "fadc9d05-12ac-465a-aece-e9a0d7e355a3",
   "metadata": {},
   "outputs": [],
   "source": [
    "BIO_table = []\n",
    "\n",
    "temp_tag_list = []\n",
    "for idx, (token, tag) in enumerate(token_pairs_list):\n",
    "    if tag[-1] != ']': # Making B-tag\n",
    "        tag = \"B-\" + tag\n",
    "    else: # Making sequentail tag\n",
    "        real_tag = tag.split('[')[0]\n",
    "        if tag in temp_tag_list: # Making I-tag\n",
    "            tag = \"I-\" + real_tag\n",
    "        else: # Making B-tag\n",
    "            temp_tag_list.append(tag)\n",
    "            tag = \"B-\" + real_tag\n",
    "    \n",
    "    BIO_table.append([token, tag])"
   ]
  },
  {
   "cell_type": "code",
   "execution_count": 13,
   "id": "d81d74c6-eeb7-4444-ae36-b6a1a6f4bf76",
   "metadata": {},
   "outputs": [],
   "source": [
    "BIO_df = pd.DataFrame(BIO_table, columns=[\"token\", \"tag\"])\n",
    "BIO_df.to_csv(f\"BIO-{TXT_FILE_NAME[:-4]}.csv\")"
   ]
  },
  {
   "cell_type": "code",
   "execution_count": 14,
   "id": "a310ea84-59d1-4a70-8ff0-0324f9c8a6d3",
   "metadata": {},
   "outputs": [
    {
     "data": {
      "text/html": [
       "<div>\n",
       "<style scoped>\n",
       "    .dataframe tbody tr th:only-of-type {\n",
       "        vertical-align: middle;\n",
       "    }\n",
       "\n",
       "    .dataframe tbody tr th {\n",
       "        vertical-align: top;\n",
       "    }\n",
       "\n",
       "    .dataframe thead th {\n",
       "        text-align: right;\n",
       "    }\n",
       "</style>\n",
       "<table border=\"1\" class=\"dataframe\">\n",
       "  <thead>\n",
       "    <tr style=\"text-align: right;\">\n",
       "      <th></th>\n",
       "      <th>token</th>\n",
       "      <th>tag</th>\n",
       "    </tr>\n",
       "  </thead>\n",
       "  <tbody>\n",
       "    <tr>\n",
       "      <th>0</th>\n",
       "      <td>bru</td>\n",
       "      <td>B-bruise</td>\n",
       "    </tr>\n",
       "    <tr>\n",
       "      <th>1</th>\n",
       "      <td>abrasion</td>\n",
       "      <td>B-abrasion</td>\n",
       "    </tr>\n",
       "    <tr>\n",
       "      <th>2</th>\n",
       "      <td>pain</td>\n",
       "      <td>B-pain</td>\n",
       "    </tr>\n",
       "    <tr>\n",
       "      <th>3</th>\n",
       "      <td>bleeding</td>\n",
       "      <td>B-bleeding</td>\n",
       "    </tr>\n",
       "    <tr>\n",
       "      <th>4</th>\n",
       "      <td>pain</td>\n",
       "      <td>B-pain</td>\n",
       "    </tr>\n",
       "    <tr>\n",
       "      <th>...</th>\n",
       "      <td>...</td>\n",
       "      <td>...</td>\n",
       "    </tr>\n",
       "    <tr>\n",
       "      <th>263</th>\n",
       "      <td>tripped</td>\n",
       "      <td>B-trip</td>\n",
       "    </tr>\n",
       "    <tr>\n",
       "      <th>264</th>\n",
       "      <td>fell</td>\n",
       "      <td>B-fall</td>\n",
       "    </tr>\n",
       "    <tr>\n",
       "      <th>265</th>\n",
       "      <td>fell</td>\n",
       "      <td>B-fall</td>\n",
       "    </tr>\n",
       "    <tr>\n",
       "      <th>266</th>\n",
       "      <td>fell</td>\n",
       "      <td>B-fall</td>\n",
       "    </tr>\n",
       "    <tr>\n",
       "      <th>267</th>\n",
       "      <td>collapse</td>\n",
       "      <td>B-collapse</td>\n",
       "    </tr>\n",
       "  </tbody>\n",
       "</table>\n",
       "<p>268 rows × 2 columns</p>\n",
       "</div>"
      ],
      "text/plain": [
       "        token         tag\n",
       "0         bru    B-bruise\n",
       "1    abrasion  B-abrasion\n",
       "2        pain      B-pain\n",
       "3    bleeding  B-bleeding\n",
       "4        pain      B-pain\n",
       "..        ...         ...\n",
       "263   tripped      B-trip\n",
       "264      fell      B-fall\n",
       "265      fell      B-fall\n",
       "266      fell      B-fall\n",
       "267  collapse  B-collapse\n",
       "\n",
       "[268 rows x 2 columns]"
      ]
     },
     "execution_count": 14,
     "metadata": {},
     "output_type": "execute_result"
    }
   ],
   "source": [
    "BIO_df"
   ]
  },
  {
   "cell_type": "code",
   "execution_count": null,
   "id": "3e49b3c5-ba8b-481b-ad5d-f167d02220bb",
   "metadata": {},
   "outputs": [],
   "source": []
  }
 ],
 "metadata": {
  "kernelspec": {
   "display_name": "Python 3 (ipykernel)",
   "language": "python",
   "name": "python3"
  },
  "language_info": {
   "codemirror_mode": {
    "name": "ipython",
    "version": 3
   },
   "file_extension": ".py",
   "mimetype": "text/x-python",
   "name": "python",
   "nbconvert_exporter": "python",
   "pygments_lexer": "ipython3",
   "version": "3.8.10"
  }
 },
 "nbformat": 4,
 "nbformat_minor": 5
}
